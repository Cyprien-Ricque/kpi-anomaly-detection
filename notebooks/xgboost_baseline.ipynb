{
 "cells": [
  {
   "cell_type": "code",
   "execution_count": 1,
   "metadata": {
    "pycharm": {
     "name": "#%%\n"
    }
   },
   "outputs": [
    {
     "name": "stdout",
     "output_type": "stream",
     "text": [
      "Requirement already satisfied: tables in c:\\users\\cypri\\anaconda3\\envs\\pytorch-gpu\\lib\\site-packages (3.7.0)\n",
      "Requirement already satisfied: numpy>=1.19.0 in c:\\users\\cypri\\appdata\\roaming\\python\\python38\\site-packages (from tables) (1.22.3)\n",
      "Requirement already satisfied: numexpr>=2.6.2 in c:\\users\\cypri\\anaconda3\\envs\\pytorch-gpu\\lib\\site-packages (from tables) (2.8.1)\n",
      "Requirement already satisfied: packaging in c:\\users\\cypri\\anaconda3\\envs\\pytorch-gpu\\lib\\site-packages (from tables) (21.3)\n",
      "Requirement already satisfied: pyparsing!=3.0.5,>=2.0.2 in c:\\users\\cypri\\anaconda3\\envs\\pytorch-gpu\\lib\\site-packages (from packaging->tables) (3.0.4)\n"
     ]
    },
    {
     "name": "stderr",
     "output_type": "stream",
     "text": [
      "C:\\Users\\cypri\\anaconda3\\envs\\pytorch-gpu\\lib\\site-packages\\xgboost\\compat.py:36: FutureWarning: pandas.Int64Index is deprecated and will be removed from pandas in a future version. Use pandas.Index with the appropriate dtype instead.\n",
      "  from pandas import MultiIndex, Int64Index\n"
     ]
    }
   ],
   "source": [
    "!pip3 install tables\n",
    "\n",
    "from sklearn.model_selection import train_test_split\n",
    "import pandas as pd\n",
    "import numpy as np\n",
    "\n",
    "from data_factory.DataLoader import DataLoader\n",
    "# evaluation file\n",
    "from utils.evaluation import label_evaluation\n",
    "\n",
    "# models\n",
    "from sklearn.decomposition import PCA\n",
    "from xgboost import XGBClassifier, DMatrix\n",
    "from xgboost import train\n",
    "from catboost import CatBoostClassifier\n",
    "from lightgbm import LGBMClassifier"
   ]
  },
  {
   "cell_type": "code",
   "execution_count": 2,
   "metadata": {
    "pycharm": {
     "name": "#%%\n"
    }
   },
   "outputs": [
    {
     "name": "stderr",
     "output_type": "stream",
     "text": [
      "INFO:data_factory.DataLoader:Use previously generated file ../data//data_export_train.csv_test.csv_fmd-False_s-True.p. Can not redo preprocessing by loading from generated file.\n"
     ]
    }
   ],
   "source": [
    "dl = DataLoader(use_previous_files=True, config_file=\"../config/config.yml\")"
   ]
  },
  {
   "cell_type": "code",
   "execution_count": 3,
   "metadata": {
    "pycharm": {
     "name": "#%%\n"
    }
   },
   "outputs": [],
   "source": [
    "VALID_SET_SIZE = 0.2\n",
    "RANDOM_SEED = 999\n",
    "SPLITS = 10\n",
    "THRESHOLD = 0.26\n",
    "\n",
    "result_file = '../data/predict.csv'\n",
    "truth_file = '../data/ground_truth.hdf'\n",
    "delay = 7"
   ]
  },
  {
   "cell_type": "markdown",
   "metadata": {
    "pycharm": {
     "name": "#%% md\n"
    }
   },
   "source": [
    "Feature Engineering"
   ]
  },
  {
   "cell_type": "code",
   "execution_count": 4,
   "metadata": {
    "pycharm": {
     "name": "#%%\n"
    }
   },
   "outputs": [],
   "source": [
    "mas = [ma for ma in range(5, 105, 5)]\n",
    "\n",
    "for ma in mas:\n",
    "    dl.train[f'MA{ma}'] = dl.train.groupby('kpi_id')['value'].transform(lambda x: x.rolling(window=ma, min_periods=1).mean())\n",
    "    dl.train[f'DIFF_MA{ma}'] = abs(dl.train[f'MA{ma}'] - dl.train['value'])\n",
    "    \n",
    "    dl.val[f'MA{ma}'] = dl.val.groupby('kpi_id')['value'].transform(lambda x: x.rolling(window=ma, min_periods=1).mean())\n",
    "    dl.val[f'DIFF_MA{ma}'] = abs(dl.val[f'MA{ma}'] - dl.val['value'])\n",
    "\n",
    "    dl.test[f'MA{ma}'] = dl.test.groupby('kpi_id')['value'].transform(lambda x: x.rolling(window=ma, min_periods=1).mean())\n",
    "    dl.test[f'DIFF_MA{ma}'] = abs(dl.test[f'MA{ma}'] - dl.test['value'])"
   ]
  },
  {
   "cell_type": "code",
   "execution_count": 5,
   "metadata": {
    "pycharm": {
     "name": "#%%\n"
    }
   },
   "outputs": [],
   "source": [
    "c_ignored = ['timestamp', 'datetime', 'kpi_id', 'label']\n",
    "X_train, y_train = dl.train.loc[:, [c for c in dl.train.columns if c not in c_ignored]], dl.train.loc[:, 'label']\n",
    "X_val, y_val = dl.val.loc[:, [c for c in dl.val.columns if c not in c_ignored]], dl.val.loc[:, 'label']\n",
    "X_test = dl.test.loc[:, [c for c in dl.test.columns if c not in c_ignored]]"
   ]
  },
  {
   "cell_type": "code",
   "execution_count": 6,
   "metadata": {
    "pycharm": {
     "name": "#%%\n"
    }
   },
   "outputs": [
    {
     "name": "stderr",
     "output_type": "stream",
     "text": [
      "C:\\Users\\cypri\\anaconda3\\envs\\pytorch-gpu\\lib\\site-packages\\xgboost\\data.py:250: FutureWarning: pandas.Int64Index is deprecated and will be removed from pandas in a future version. Use pandas.Index with the appropriate dtype instead.\n",
      "  elif isinstance(data.columns, (pd.Int64Index, pd.RangeIndex)):\n"
     ]
    },
    {
     "name": "stdout",
     "output_type": "stream",
     "text": [
      "[0]\tvalid-auc:0.94420\n",
      "[1]\tvalid-auc:0.96137\n",
      "[2]\tvalid-auc:0.96095\n",
      "[3]\tvalid-auc:0.96068\n",
      "[4]\tvalid-auc:0.96388\n",
      "[5]\tvalid-auc:0.96483\n",
      "[6]\tvalid-auc:0.96354\n",
      "[7]\tvalid-auc:0.96380\n",
      "[8]\tvalid-auc:0.96341\n",
      "[9]\tvalid-auc:0.96321\n"
     ]
    }
   ],
   "source": [
    "dtrain = DMatrix(X_train, label=y_train)\n",
    "dvalid = DMatrix(X_val, label=y_val)\n",
    "watchlist = [(dvalid, 'valid')]\n",
    "params = {\n",
    "    'max_depth': 7,\n",
    "    'min_child_weight': 200, \n",
    "    'colsample_bytree': 0.8, \n",
    "    'subsample': 0.8, \n",
    "    'eta': 0.04,    \n",
    "    'seed': RANDOM_SEED,\n",
    "    'eval_metric': 'auc'\n",
    "}\n",
    "booster = train(params, dtrain, num_boost_round=20, evals=watchlist, early_stopping_rounds=5, verbose_eval=True)\n",
    "best_features = pd.DataFrame(booster.get_score(importance_type='gain').items(), columns=['features', 'importance'])"
   ]
  },
  {
   "cell_type": "code",
   "execution_count": 7,
   "metadata": {
    "pycharm": {
     "name": "#%%\n"
    }
   },
   "outputs": [],
   "source": [
    "model_params = {\n",
    "    'max_depth': 7,\n",
    "    'n_estimators': 30,\n",
    "    'min_child_weight': 200,\n",
    "    'colsample_bytree': 0.8,\n",
    "    'subsample': 0.8,\n",
    "    'eta': 0.04,\n",
    "    'objective': 'binary:logistic',\n",
    "    'use_label_encoder': False,\n",
    "    'seed': RANDOM_SEED\n",
    "}\n",
    "\n",
    "model = XGBClassifier(**model_params)"
   ]
  },
  {
   "cell_type": "code",
   "execution_count": 8,
   "metadata": {
    "pycharm": {
     "name": "#%%\n"
    }
   },
   "outputs": [
    {
     "name": "stderr",
     "output_type": "stream",
     "text": [
      "C:\\Users\\cypri\\anaconda3\\envs\\pytorch-gpu\\lib\\site-packages\\xgboost\\data.py:250: FutureWarning: pandas.Int64Index is deprecated and will be removed from pandas in a future version. Use pandas.Index with the appropriate dtype instead.\n",
      "  elif isinstance(data.columns, (pd.Int64Index, pd.RangeIndex)):\n"
     ]
    },
    {
     "name": "stdout",
     "output_type": "stream",
     "text": [
      "[0]\tvalidation_0-auc:0.91130\tvalidation_1-auc:0.94275\n",
      "[1]\tvalidation_0-auc:0.92383\tvalidation_1-auc:0.96016\n",
      "[2]\tvalidation_0-auc:0.92390\tvalidation_1-auc:0.95776\n",
      "[3]\tvalidation_0-auc:0.92464\tvalidation_1-auc:0.95801\n",
      "[4]\tvalidation_0-auc:0.93065\tvalidation_1-auc:0.96050\n",
      "[5]\tvalidation_0-auc:0.93358\tvalidation_1-auc:0.96251\n",
      "[6]\tvalidation_0-auc:0.93463\tvalidation_1-auc:0.96235\n",
      "[7]\tvalidation_0-auc:0.93393\tvalidation_1-auc:0.96237\n",
      "[8]\tvalidation_0-auc:0.93463\tvalidation_1-auc:0.96206\n",
      "[9]\tvalidation_0-auc:0.93491\tvalidation_1-auc:0.96166\n"
     ]
    },
    {
     "data": {
      "text/plain": "XGBClassifier(base_score=0.5, booster='gbtree', colsample_bylevel=1,\n              colsample_bynode=1, colsample_bytree=0.8,\n              enable_categorical=False, eta=0.04, gamma=0, gpu_id=-1,\n              importance_type=None, interaction_constraints='',\n              learning_rate=0.0399999991, max_delta_step=0, max_depth=7,\n              min_child_weight=200, missing=nan, monotone_constraints='()',\n              n_estimators=30, n_jobs=12, num_parallel_tree=1, predictor='auto',\n              random_state=999, reg_alpha=0, reg_lambda=1, scale_pos_weight=1,\n              seed=999, subsample=0.8, tree_method='exact',\n              use_label_encoder=False, validate_parameters=1, ...)"
     },
     "execution_count": 8,
     "metadata": {},
     "output_type": "execute_result"
    }
   ],
   "source": [
    "fit_params = {\n",
    "    'eval_metric': 'auc',\n",
    "    'eval_set': [(X_train, y_train), (X_val, y_val)],\n",
    "    'early_stopping_rounds': 5,\n",
    "    'verbose': True\n",
    "}\n",
    "\n",
    "model.fit(X_train, y_train, **fit_params)"
   ]
  },
  {
   "cell_type": "code",
   "execution_count": 10,
   "metadata": {
    "pycharm": {
     "name": "#%%\n"
    }
   },
   "outputs": [
    {
     "name": "stdout",
     "output_type": "stream",
     "text": [
      "{\"result\": true, \"data\": 0.03757672421991134, \"message\": \"计算成功\"}\n"
     ]
    }
   ],
   "source": [
    "pred = model.predict_proba(X_train)[:,1]\n",
    "pred = np.where(pred > THRESHOLD, 1, 0)\n",
    "prediction = dl.train.loc[:, ['timestamp', 'kpi_id']].rename(columns={'kpi_id': 'KPI ID'})\n",
    "prediction['predict'] = pred\n",
    "prediction.to_csv(result_file)\n",
    "\n",
    "ground_truth = dl.train.loc[:, ['timestamp', 'kpi_id', 'label']].rename(columns={'kpi_id': 'KPI ID'})\n",
    "ground_truth.to_hdf(truth_file, key='df')\n",
    "\n",
    "print(label_evaluation(truth_file, result_file, delay))"
   ]
  },
  {
   "cell_type": "markdown",
   "source": [
    "Scale: True\n",
    "Fill: True\n",
    "{\"result\": true, \"data\": 0.5910519667459827, \"message\": \"计算成功\"}"
   ],
   "metadata": {
    "collapsed": false,
    "pycharm": {
     "name": "#%% md\n"
    }
   }
  },
  {
   "cell_type": "markdown",
   "source": [
    "Scale: True\n",
    "Fill: False\n",
    "{\"result\": true, \"data\": 0.5910519667459827, \"message\": \"计算成功\"}"
   ],
   "metadata": {
    "collapsed": false,
    "pycharm": {
     "name": "#%% md\n"
    }
   }
  },
  {
   "cell_type": "code",
   "execution_count": 11,
   "metadata": {
    "pycharm": {
     "name": "#%%\n"
    }
   },
   "outputs": [
    {
     "name": "stdout",
     "output_type": "stream",
     "text": [
      "{\"result\": true, \"data\": 0.12783233913220984, \"message\": \"计算成功\"}\n"
     ]
    }
   ],
   "source": [
    "pred = model.predict_proba(X_val)[:,1]\n",
    "pred = np.where(pred > THRESHOLD, 1, 0)\n",
    "prediction = dl.val.loc[:, ['timestamp', 'kpi_id']].rename(columns={'kpi_id': 'KPI ID'})\n",
    "prediction['predict'] = pred\n",
    "prediction.to_csv(result_file)\n",
    "\n",
    "ground_truth = dl.val.loc[:, ['timestamp', 'kpi_id', 'label']].rename(columns={'kpi_id': 'KPI ID'})\n",
    "ground_truth.to_hdf(truth_file, key='df')\n",
    "\n",
    "print(label_evaluation(truth_file, result_file, delay))"
   ]
  },
  {
   "cell_type": "markdown",
   "source": [
    "Scale: True\n",
    "Fill: True\n",
    "{\"result\": true, \"data\": 0.9149949849548645, \"message\": \"计算成功\"}"
   ],
   "metadata": {
    "collapsed": false,
    "pycharm": {
     "name": "#%% md\n"
    }
   }
  },
  {
   "cell_type": "code",
   "execution_count": 12,
   "metadata": {
    "pycharm": {
     "name": "#%%\n"
    }
   },
   "outputs": [],
   "source": [
    "pred = model.predict_proba(X_test)[:,1]\n",
    "pred = np.where(pred > THRESHOLD, 1, 0)\n",
    "prediction = dl.test.loc[:, ['timestamp', 'kpi_id']].rename(columns={'kpi_id': 'KPI ID'})\n",
    "prediction['predict'] = pred\n",
    "prediction.to_csv(result_file)"
   ]
  }
 ],
 "metadata": {
  "interpreter": {
   "hash": "7d4133a6686e7b6e1653cde6574acd837d64e50b91f09c2e2fee9163e88bab39"
  },
  "kernelspec": {
   "display_name": "Python 3.9.7 ('THU')",
   "language": "python",
   "name": "python3"
  },
  "language_info": {
   "codemirror_mode": {
    "name": "ipython",
    "version": 3
   },
   "file_extension": ".py",
   "mimetype": "text/x-python",
   "name": "python",
   "nbconvert_exporter": "python",
   "pygments_lexer": "ipython3",
   "version": "3.9.7"
  },
  "orig_nbformat": 4
 },
 "nbformat": 4,
 "nbformat_minor": 2
}