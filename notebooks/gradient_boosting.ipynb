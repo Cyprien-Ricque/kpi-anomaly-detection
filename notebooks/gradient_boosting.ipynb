{
 "cells": [
  {
   "cell_type": "markdown",
   "metadata": {},
   "source": [
    "## ***this notebook regards feature engineering testing and a gradient boosting baseline solution pipeline***"
   ]
  },
  {
   "cell_type": "markdown",
   "metadata": {},
   "source": [
    "#### **imports**"
   ]
  },
  {
   "cell_type": "code",
   "execution_count": 1,
   "metadata": {},
   "outputs": [],
   "source": [
    "import sys\n",
    "import os\n",
    "\n",
    "current = os.getcwd()\n",
    "parent = os.path.dirname(current)\n",
    "sys.path.append(parent)"
   ]
  },
  {
   "cell_type": "code",
   "execution_count": 2,
   "metadata": {
    "pycharm": {
     "name": "#%%\n"
    }
   },
   "outputs": [],
   "source": [
    "import pandas as pd\n",
    "import numpy as np\n",
    "from sklearn.model_selection import train_test_split\n",
    "from xgboost import train\n",
    "from xgboost import XGBClassifier, DMatrix\n",
    "from lightgbm import LGBMClassifier\n",
    "from catboost import CatBoostClassifier\n",
    "from sklearn.decomposition import PCA\n",
    "from utils.evaluation import label_evaluation\n",
    "from data_factory.DataLoader import DataLoader"
   ]
  },
  {
   "cell_type": "markdown",
   "metadata": {},
   "source": [
    "#### **hyperparameters and constants**"
   ]
  },
  {
   "cell_type": "code",
   "execution_count": 3,
   "metadata": {},
   "outputs": [],
   "source": [
    "delay = 7\n",
    "result_file = '../data/predict.csv'\n",
    "truth_file = '../data/ground_truth.hdf'"
   ]
  },
  {
   "cell_type": "code",
   "execution_count": 4,
   "metadata": {},
   "outputs": [],
   "source": [
    "MA_MIN = 5\n",
    "MA_MAX = 100\n",
    "MA_STEP = 5\n",
    "VALID_SET_SIZE = 0.2\n",
    "RANDOM_SEED = 999\n",
    "SPLITS = 10\n",
    "THRESHOLD = 0.26\n",
    "EARLY_STOP = 10"
   ]
  },
  {
   "cell_type": "markdown",
   "metadata": {},
   "source": [
    "#### **load data**"
   ]
  },
  {
   "cell_type": "code",
   "execution_count": 5,
   "metadata": {},
   "outputs": [
    {
     "name": "stderr",
     "output_type": "stream",
     "text": [
      "INFO:data_factory.DataLoader:Use previously generated file ../data/data_export_train.csv_test.csv_fmd-False_s-True.p. Can not redo preprocessing by loading from generated file.\n"
     ]
    }
   ],
   "source": [
    "dl = DataLoader(use_previous_files=True, config_file=\"../config/config.yml\")"
   ]
  },
  {
   "cell_type": "markdown",
   "metadata": {},
   "source": [
    "#### **feature engineering**"
   ]
  },
  {
   "cell_type": "code",
   "execution_count": 6,
   "metadata": {
    "pycharm": {
     "name": "#%%\n"
    }
   },
   "outputs": [],
   "source": [
    "moving_avg_lens = [ma for ma in range(MA_MIN, MA_MAX+MA_STEP, MA_STEP)]\n",
    "\n",
    "for dataset in (dl.train, dl.val, dl.test):\n",
    "    for length in moving_avg_lens:\n",
    "        # moving average\n",
    "        dataset[f'MA{length}'] = dataset.groupby('kpi_id')['value'].transform(lambda x: x.rolling(window=length, min_periods=1).mean())\n",
    "        dataset[f'DIFF_MA{length}'] = abs(dataset[f'MA{length}'] - dataset['value'])\n",
    "        # exponential moving average\n",
    "        dataset[f'EMA{length}'] = dataset.groupby('kpi_id')['value'].transform(lambda x: x.ewm(span=length, min_periods=1).mean())\n",
    "        dataset[f'DIFF_EMA{length}'] = abs(dataset[f'EMA{length}'] - dataset['value'])\n",
    "    # cumulative moving average\n",
    "    dataset[f'CMA'] = dataset.groupby('kpi_id')['value'].transform(lambda x: x.expanding().mean().mean())\n",
    "    dataset[f'DIFF_CMA'] = abs(dataset[f'CMA'] - dataset['value'])"
   ]
  },
  {
   "cell_type": "code",
   "execution_count": 7,
   "metadata": {
    "pycharm": {
     "name": "#%%\n"
    }
   },
   "outputs": [],
   "source": [
    "c_ignored = ['timestamp', 'datetime', 'kpi_id', 'label']\n",
    "X_train, y_train = dl.train.loc[:, [c for c in dl.train.columns if c not in c_ignored]], dl.train.loc[:, 'label']\n",
    "X_val, y_val = dl.val.loc[:, [c for c in dl.val.columns if c not in c_ignored]], dl.val.loc[:, 'label']\n",
    "X_test = dl.test.loc[:, [c for c in dl.test.columns if c not in c_ignored]]"
   ]
  },
  {
   "cell_type": "markdown",
   "metadata": {},
   "source": [
    "#### **best features**"
   ]
  },
  {
   "cell_type": "code",
   "execution_count": 8,
   "metadata": {
    "pycharm": {
     "name": "#%%\n"
    }
   },
   "outputs": [
    {
     "name": "stdout",
     "output_type": "stream",
     "text": [
      "[0]\tvalid-auc:0.70846\n",
      "[1]\tvalid-auc:0.86873\n",
      "[2]\tvalid-auc:0.91206\n",
      "[3]\tvalid-auc:0.91407\n",
      "[4]\tvalid-auc:0.92235\n",
      "[5]\tvalid-auc:0.93385\n",
      "[6]\tvalid-auc:0.93314\n",
      "[7]\tvalid-auc:0.93300\n",
      "[8]\tvalid-auc:0.93181\n",
      "[9]\tvalid-auc:0.93168\n",
      "[10]\tvalid-auc:0.93412\n",
      "[11]\tvalid-auc:0.95073\n",
      "[12]\tvalid-auc:0.95056\n",
      "[13]\tvalid-auc:0.95543\n",
      "[14]\tvalid-auc:0.95532\n",
      "[15]\tvalid-auc:0.95534\n",
      "[16]\tvalid-auc:0.95539\n",
      "[17]\tvalid-auc:0.95909\n",
      "[18]\tvalid-auc:0.95939\n",
      "[19]\tvalid-auc:0.96010\n"
     ]
    }
   ],
   "source": [
    "dtrain = DMatrix(X_train, label=y_train)\n",
    "dvalid = DMatrix(X_val, label=y_val)\n",
    "watchlist = [(dvalid, 'valid')]\n",
    "params = {\n",
    "    'max_depth': 7,\n",
    "    'min_child_weight': 200, \n",
    "    'colsample_bytree': 0.8, \n",
    "    'subsample': 0.8, \n",
    "    'eta': 0.04,    \n",
    "    'seed': RANDOM_SEED,\n",
    "    'eval_metric': 'auc'\n",
    "}\n",
    "booster = train(params, dtrain, num_boost_round=20, evals=watchlist, early_stopping_rounds=EARLY_STOP, verbose_eval=True)\n",
    "best_features = pd.DataFrame(booster.get_score(importance_type='gain').items(), columns=['features', 'importance'])"
   ]
  },
  {
   "cell_type": "markdown",
   "metadata": {},
   "source": [
    "##### **models**"
   ]
  },
  {
   "cell_type": "code",
   "execution_count": 9,
   "metadata": {
    "pycharm": {
     "name": "#%%\n"
    }
   },
   "outputs": [],
   "source": [
    "model_params = {\n",
    "    'max_depth': 7,\n",
    "    'n_estimators': 100,\n",
    "    'min_child_weight': 200,\n",
    "    'colsample_bytree': 0.8,\n",
    "    'subsample': 0.8,\n",
    "    'eta': 0.04,\n",
    "    'objective': 'binary:logistic',\n",
    "    'use_label_encoder': False,\n",
    "    'seed': RANDOM_SEED\n",
    "}\n",
    "\n",
    "model = XGBClassifier(**model_params)"
   ]
  },
  {
   "cell_type": "markdown",
   "metadata": {},
   "source": [
    "#### **training**"
   ]
  },
  {
   "cell_type": "code",
   "execution_count": 10,
   "metadata": {
    "pycharm": {
     "name": "#%%\n"
    }
   },
   "outputs": [
    {
     "name": "stdout",
     "output_type": "stream",
     "text": [
      "[0]\tvalidation_0-auc:0.90834\tvalidation_1-auc:0.72038\n",
      "[1]\tvalidation_0-auc:0.91908\tvalidation_1-auc:0.86659\n",
      "[2]\tvalidation_0-auc:0.92871\tvalidation_1-auc:0.90009\n",
      "[3]\tvalidation_0-auc:0.93098\tvalidation_1-auc:0.90715\n",
      "[4]\tvalidation_0-auc:0.93163\tvalidation_1-auc:0.91769\n",
      "[5]\tvalidation_0-auc:0.93172\tvalidation_1-auc:0.91182\n",
      "[6]\tvalidation_0-auc:0.93796\tvalidation_1-auc:0.95491\n",
      "[7]\tvalidation_0-auc:0.93818\tvalidation_1-auc:0.95506\n",
      "[8]\tvalidation_0-auc:0.93829\tvalidation_1-auc:0.95505\n",
      "[9]\tvalidation_0-auc:0.93944\tvalidation_1-auc:0.95444\n",
      "[10]\tvalidation_0-auc:0.94043\tvalidation_1-auc:0.95439\n",
      "[11]\tvalidation_0-auc:0.94178\tvalidation_1-auc:0.95510\n",
      "[12]\tvalidation_0-auc:0.94199\tvalidation_1-auc:0.95500\n",
      "[13]\tvalidation_0-auc:0.94203\tvalidation_1-auc:0.95562\n",
      "[14]\tvalidation_0-auc:0.94230\tvalidation_1-auc:0.95459\n",
      "[15]\tvalidation_0-auc:0.94262\tvalidation_1-auc:0.95453\n",
      "[16]\tvalidation_0-auc:0.94305\tvalidation_1-auc:0.95437\n",
      "[17]\tvalidation_0-auc:0.94289\tvalidation_1-auc:0.95530\n",
      "[18]\tvalidation_0-auc:0.94271\tvalidation_1-auc:0.95549\n",
      "[19]\tvalidation_0-auc:0.94267\tvalidation_1-auc:0.95491\n",
      "[20]\tvalidation_0-auc:0.94407\tvalidation_1-auc:0.95442\n",
      "[21]\tvalidation_0-auc:0.94397\tvalidation_1-auc:0.95426\n",
      "[22]\tvalidation_0-auc:0.94557\tvalidation_1-auc:0.95643\n",
      "[23]\tvalidation_0-auc:0.94629\tvalidation_1-auc:0.95886\n",
      "[24]\tvalidation_0-auc:0.94605\tvalidation_1-auc:0.95872\n",
      "[25]\tvalidation_0-auc:0.94649\tvalidation_1-auc:0.95838\n",
      "[26]\tvalidation_0-auc:0.94707\tvalidation_1-auc:0.96006\n",
      "[27]\tvalidation_0-auc:0.94686\tvalidation_1-auc:0.96016\n",
      "[28]\tvalidation_0-auc:0.94755\tvalidation_1-auc:0.96013\n",
      "[29]\tvalidation_0-auc:0.94813\tvalidation_1-auc:0.96078\n",
      "[30]\tvalidation_0-auc:0.94849\tvalidation_1-auc:0.96054\n",
      "[31]\tvalidation_0-auc:0.94838\tvalidation_1-auc:0.96069\n",
      "[32]\tvalidation_0-auc:0.94886\tvalidation_1-auc:0.96128\n",
      "[33]\tvalidation_0-auc:0.94899\tvalidation_1-auc:0.96132\n",
      "[34]\tvalidation_0-auc:0.95289\tvalidation_1-auc:0.96246\n",
      "[35]\tvalidation_0-auc:0.95271\tvalidation_1-auc:0.96227\n",
      "[36]\tvalidation_0-auc:0.95377\tvalidation_1-auc:0.96224\n",
      "[37]\tvalidation_0-auc:0.95402\tvalidation_1-auc:0.96225\n",
      "[38]\tvalidation_0-auc:0.95446\tvalidation_1-auc:0.96218\n",
      "[39]\tvalidation_0-auc:0.95481\tvalidation_1-auc:0.96229\n",
      "[40]\tvalidation_0-auc:0.95522\tvalidation_1-auc:0.96270\n",
      "[41]\tvalidation_0-auc:0.95525\tvalidation_1-auc:0.96268\n",
      "[42]\tvalidation_0-auc:0.95571\tvalidation_1-auc:0.96278\n",
      "[43]\tvalidation_0-auc:0.95588\tvalidation_1-auc:0.96279\n",
      "[44]\tvalidation_0-auc:0.95760\tvalidation_1-auc:0.96307\n",
      "[45]\tvalidation_0-auc:0.95751\tvalidation_1-auc:0.96301\n",
      "[46]\tvalidation_0-auc:0.95746\tvalidation_1-auc:0.96287\n",
      "[47]\tvalidation_0-auc:0.95756\tvalidation_1-auc:0.96277\n",
      "[48]\tvalidation_0-auc:0.95858\tvalidation_1-auc:0.96455\n",
      "[49]\tvalidation_0-auc:0.95942\tvalidation_1-auc:0.96560\n",
      "[50]\tvalidation_0-auc:0.95959\tvalidation_1-auc:0.96545\n",
      "[51]\tvalidation_0-auc:0.95990\tvalidation_1-auc:0.96564\n",
      "[52]\tvalidation_0-auc:0.96102\tvalidation_1-auc:0.96707\n",
      "[53]\tvalidation_0-auc:0.96103\tvalidation_1-auc:0.96705\n",
      "[54]\tvalidation_0-auc:0.96100\tvalidation_1-auc:0.96696\n",
      "[55]\tvalidation_0-auc:0.96144\tvalidation_1-auc:0.96789\n",
      "[56]\tvalidation_0-auc:0.96221\tvalidation_1-auc:0.96779\n",
      "[57]\tvalidation_0-auc:0.96209\tvalidation_1-auc:0.96738\n",
      "[58]\tvalidation_0-auc:0.96256\tvalidation_1-auc:0.96706\n",
      "[59]\tvalidation_0-auc:0.96325\tvalidation_1-auc:0.96682\n",
      "[60]\tvalidation_0-auc:0.96355\tvalidation_1-auc:0.96658\n",
      "[61]\tvalidation_0-auc:0.96373\tvalidation_1-auc:0.96652\n",
      "[62]\tvalidation_0-auc:0.96400\tvalidation_1-auc:0.96669\n",
      "[63]\tvalidation_0-auc:0.96406\tvalidation_1-auc:0.96672\n",
      "[64]\tvalidation_0-auc:0.96430\tvalidation_1-auc:0.96657\n",
      "[65]\tvalidation_0-auc:0.96438\tvalidation_1-auc:0.96649\n"
     ]
    },
    {
     "data": {
      "text/plain": [
       "XGBClassifier(base_score=0.5, booster='gbtree', colsample_bylevel=1,\n",
       "              colsample_bynode=1, colsample_bytree=0.8,\n",
       "              enable_categorical=False, eta=0.04, gamma=0, gpu_id=-1,\n",
       "              importance_type=None, interaction_constraints='',\n",
       "              learning_rate=0.0399999991, max_delta_step=0, max_depth=7,\n",
       "              min_child_weight=200, missing=nan, monotone_constraints='()',\n",
       "              n_estimators=100, n_jobs=16, num_parallel_tree=1,\n",
       "              predictor='auto', random_state=999, reg_alpha=0, reg_lambda=1,\n",
       "              scale_pos_weight=1, seed=999, subsample=0.8, tree_method='exact',\n",
       "              use_label_encoder=False, validate_parameters=1, ...)"
      ]
     },
     "execution_count": 10,
     "metadata": {},
     "output_type": "execute_result"
    }
   ],
   "source": [
    "fit_params = {\n",
    "    'eval_metric': 'auc',\n",
    "    'eval_set': [(X_train, y_train), (X_val, y_val)],\n",
    "    'early_stopping_rounds': EARLY_STOP,\n",
    "    'verbose': True\n",
    "}\n",
    "\n",
    "model.fit(X_train, y_train, **fit_params)"
   ]
  },
  {
   "cell_type": "markdown",
   "metadata": {},
   "source": [
    "#### **evaluation**"
   ]
  },
  {
   "cell_type": "code",
   "execution_count": 11,
   "metadata": {
    "pycharm": {
     "name": "#%%\n"
    }
   },
   "outputs": [
    {
     "name": "stdout",
     "output_type": "stream",
     "text": [
      "evaluating: train\n",
      "{\"result\": true, \"data\": 0.7379173654520506, \"message\": \"计算成功\"}\n",
      "evaluating: val\n",
      "{\"result\": true, \"data\": 0.9261160181427549, \"message\": \"计算成功\"}\n"
     ]
    }
   ],
   "source": [
    "for name, X, dataset in (('train', X_train, dl.train), ('val', X_val, dl.val)):\n",
    "    print(f'evaluating: {name}')\n",
    "    pred = model.predict_proba(X)[:,1]\n",
    "    pred = np.where(pred > THRESHOLD, 1, 0)\n",
    "    prediction = dataset.loc[:, ['timestamp', 'kpi_id']].rename(columns={'kpi_id': 'KPI ID'})\n",
    "    prediction['predict'] = pred\n",
    "    prediction.to_csv(result_file)\n",
    "\n",
    "    ground_truth = dataset.loc[:, ['timestamp', 'kpi_id', 'label']].rename(columns={'kpi_id': 'KPI ID'})\n",
    "    ground_truth.to_hdf(truth_file, key='df')\n",
    "\n",
    "    print(label_evaluation(truth_file, result_file, delay))"
   ]
  },
  {
   "cell_type": "markdown",
   "metadata": {},
   "source": [
    "#### **submission**"
   ]
  },
  {
   "cell_type": "code",
   "execution_count": 12,
   "metadata": {
    "pycharm": {
     "name": "#%%\n"
    }
   },
   "outputs": [],
   "source": [
    "pred = model.predict_proba(X_test)[:,1]\n",
    "pred = np.where(pred > THRESHOLD, 1, 0)\n",
    "prediction = dl.test.loc[:, ['timestamp', 'kpi_id']].rename(columns={'kpi_id': 'KPI ID'})\n",
    "prediction['predict'] = pred\n",
    "prediction.to_csv(result_file)"
   ]
  },
  {
   "cell_type": "code",
   "execution_count": null,
   "metadata": {},
   "outputs": [],
   "source": []
  }
 ],
 "metadata": {
  "interpreter": {
   "hash": "a3f17c236de22f239375743162bff747011b70af04d9864d7ee0f940144027e4"
  },
  "kernelspec": {
   "display_name": "Python 3.9.7 ('gresearch')",
   "language": "python",
   "name": "python3"
  },
  "language_info": {
   "codemirror_mode": {
    "name": "ipython",
    "version": 3
   },
   "file_extension": ".py",
   "mimetype": "text/x-python",
   "name": "python",
   "nbconvert_exporter": "python",
   "pygments_lexer": "ipython3",
   "version": "3.9.7"
  },
  "orig_nbformat": 4
 },
 "nbformat": 4,
 "nbformat_minor": 2
}
