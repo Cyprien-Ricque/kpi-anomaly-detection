{
 "cells": [
  {
   "cell_type": "markdown",
   "metadata": {},
   "source": [
    "## ***this notebook regards feature engineering testing and a gradient boosting baseline solution pipeline***"
   ]
  },
  {
   "cell_type": "markdown",
   "metadata": {},
   "source": [
    "#### **imports**"
   ]
  },
  {
   "cell_type": "code",
   "execution_count": 1,
   "metadata": {},
   "outputs": [],
   "source": [
    "import sys\n",
    "import os\n",
    "\n",
    "current = os.getcwd()\n",
    "parent = os.path.dirname(current)\n",
    "sys.path.append(parent)"
   ]
  },
  {
   "cell_type": "code",
   "execution_count": 2,
   "metadata": {
    "pycharm": {
     "name": "#%%\n"
    }
   },
   "outputs": [],
   "source": [
    "import json\n",
    "import pandas as pd\n",
    "import numpy as np\n",
    "from sklearn.model_selection import train_test_split\n",
    "from xgboost import train\n",
    "from xgboost import XGBClassifier, DMatrix\n",
    "from lightgbm import LGBMClassifier\n",
    "from catboost import CatBoostClassifier\n",
    "from sklearn.decomposition import PCA\n",
    "from utils.evaluation import label_evaluation\n",
    "from data_factory.DataLoader import DataLoader"
   ]
  },
  {
   "cell_type": "markdown",
   "metadata": {},
   "source": [
    "#### **hyperparameters and constants**"
   ]
  },
  {
   "cell_type": "code",
   "execution_count": 3,
   "metadata": {},
   "outputs": [],
   "source": [
    "delay = 7\n",
    "result_file = '../data/predict.csv'\n",
    "truth_file = '../data/ground_truth.hdf'"
   ]
  },
  {
   "cell_type": "code",
   "execution_count": 4,
   "metadata": {},
   "outputs": [],
   "source": [
    "MA_MIN = 5\n",
    "MA_MAX = 100\n",
    "MA_STEP = 5\n",
    "TRAIN_VALID_SIZE = 0.9\n",
    "RANDOM_SEED = 0\n",
    "EARLY_STOP = 20"
   ]
  },
  {
   "cell_type": "markdown",
   "metadata": {},
   "source": [
    "#### **load data**"
   ]
  },
  {
   "cell_type": "code",
   "execution_count": 5,
   "metadata": {},
   "outputs": [
    {
     "name": "stderr",
     "output_type": "stream",
     "text": [
      "INFO:data_factory.DataLoader:../data/train.csv loaded. shape (2476315, 4)\n",
      "INFO:data_factory.DataLoader:../data/test.csv loaded. shape (2345211, 3)\n",
      "INFO:data_factory.DataLoader:Preprocessing done.\n",
      "INFO:data_factory.DataLoader:Data exported to \"../data/data_export_train.csv_test.csv_fmd-False_s-True.p\"\n"
     ]
    }
   ],
   "source": [
    "dl = DataLoader(config_file=\"../config/config.yml\", use_previous_files=False, train_val_split=TRAIN_VALID_SIZE)"
   ]
  },
  {
   "cell_type": "markdown",
   "metadata": {},
   "source": [
    "#### **feature engineering**"
   ]
  },
  {
   "cell_type": "code",
   "execution_count": 6,
   "metadata": {
    "pycharm": {
     "name": "#%%\n"
    }
   },
   "outputs": [],
   "source": [
    "moving_avg_lens = [ma for ma in range(MA_MIN, MA_MAX+MA_STEP, MA_STEP)]\n",
    "\n",
    "for dataset in (dl.train, dl.val, dl.test):\n",
    "    for length in moving_avg_lens:\n",
    "        # moving average\n",
    "        dataset[f'MA{length}'] = dataset.groupby('kpi_id')['value'].transform(lambda x: x.rolling(window=length, min_periods=1).mean())\n",
    "        dataset[f'DIFF_MA{length}'] = abs(dataset[f'MA{length}'] - dataset['value'])\n",
    "        # exponential moving average\n",
    "        dataset[f'EMA{length}'] = dataset.groupby('kpi_id')['value'].transform(lambda x: x.ewm(span=length, min_periods=1).mean())\n",
    "        dataset[f'DIFF_EMA{length}'] = abs(dataset[f'EMA{length}'] - dataset['value'])\n",
    "    # cumulative moving average\n",
    "    dataset['CMA'] = dataset.groupby('kpi_id')['value'].transform(lambda x: x.expanding().mean())\n",
    "    dataset['DIFF_CMA'] = abs(dataset['CMA'] - dataset['value'])\n",
    "    \n",
    "    # TODO ? how each datapoint deviates from the 'tipical value' for that time\n"
   ]
  },
  {
   "cell_type": "code",
   "execution_count": 7,
   "metadata": {
    "pycharm": {
     "name": "#%%\n"
    }
   },
   "outputs": [],
   "source": [
    "c_ignored = ['timestamp', 'datetime', 'kpi_id', 'label']\n",
    "X_train, y_train = dl.train.loc[:, [c for c in dl.train.columns if c not in c_ignored]], dl.train.loc[:, 'label']\n",
    "X_val, y_val = dl.val.loc[:, [c for c in dl.val.columns if c not in c_ignored]], dl.val.loc[:, 'label']\n",
    "X_test = dl.test.loc[:, [c for c in dl.test.columns if c not in c_ignored]]"
   ]
  },
  {
   "cell_type": "markdown",
   "metadata": {},
   "source": [
    "##### **models**"
   ]
  },
  {
   "cell_type": "code",
   "execution_count": 8,
   "metadata": {
    "pycharm": {
     "name": "#%%\n"
    }
   },
   "outputs": [],
   "source": [
    "model_params = {\n",
    "    'max_depth': 7,\n",
    "    'n_estimators': 100,\n",
    "    'min_child_weight': 200,\n",
    "    'colsample_bytree': 0.8,\n",
    "    'subsample': 0.8,\n",
    "    'eta': 0.04,\n",
    "    'objective': 'binary:logistic',\n",
    "    'use_label_encoder': False,\n",
    "    'seed': RANDOM_SEED\n",
    "}\n",
    "\n",
    "model = XGBClassifier(**model_params)"
   ]
  },
  {
   "cell_type": "markdown",
   "metadata": {},
   "source": [
    "#### **training**"
   ]
  },
  {
   "cell_type": "code",
   "execution_count": 9,
   "metadata": {
    "pycharm": {
     "name": "#%%\n"
    }
   },
   "outputs": [
    {
     "name": "stdout",
     "output_type": "stream",
     "text": [
      "[0]\tvalidation_0-auc:0.89938\tvalidation_1-auc:0.87307\n",
      "[1]\tvalidation_0-auc:0.91985\tvalidation_1-auc:0.92915\n",
      "[2]\tvalidation_0-auc:0.92154\tvalidation_1-auc:0.93956\n",
      "[3]\tvalidation_0-auc:0.92160\tvalidation_1-auc:0.94067\n",
      "[4]\tvalidation_0-auc:0.92583\tvalidation_1-auc:0.93875\n",
      "[5]\tvalidation_0-auc:0.92458\tvalidation_1-auc:0.93781\n",
      "[6]\tvalidation_0-auc:0.92987\tvalidation_1-auc:0.93987\n",
      "[7]\tvalidation_0-auc:0.92887\tvalidation_1-auc:0.94290\n",
      "[8]\tvalidation_0-auc:0.93055\tvalidation_1-auc:0.94288\n",
      "[9]\tvalidation_0-auc:0.93071\tvalidation_1-auc:0.94252\n",
      "[10]\tvalidation_0-auc:0.93078\tvalidation_1-auc:0.94310\n",
      "[11]\tvalidation_0-auc:0.93262\tvalidation_1-auc:0.94299\n",
      "[12]\tvalidation_0-auc:0.93432\tvalidation_1-auc:0.94485\n",
      "[13]\tvalidation_0-auc:0.93489\tvalidation_1-auc:0.94560\n",
      "[14]\tvalidation_0-auc:0.93564\tvalidation_1-auc:0.94649\n",
      "[15]\tvalidation_0-auc:0.93570\tvalidation_1-auc:0.94605\n",
      "[16]\tvalidation_0-auc:0.93639\tvalidation_1-auc:0.94573\n",
      "[17]\tvalidation_0-auc:0.93790\tvalidation_1-auc:0.94706\n",
      "[18]\tvalidation_0-auc:0.93903\tvalidation_1-auc:0.94956\n",
      "[19]\tvalidation_0-auc:0.93976\tvalidation_1-auc:0.94957\n",
      "[20]\tvalidation_0-auc:0.94020\tvalidation_1-auc:0.94911\n",
      "[21]\tvalidation_0-auc:0.94029\tvalidation_1-auc:0.94907\n",
      "[22]\tvalidation_0-auc:0.94071\tvalidation_1-auc:0.94906\n",
      "[23]\tvalidation_0-auc:0.94095\tvalidation_1-auc:0.94911\n",
      "[24]\tvalidation_0-auc:0.94116\tvalidation_1-auc:0.94858\n",
      "[25]\tvalidation_0-auc:0.94181\tvalidation_1-auc:0.94947\n",
      "[26]\tvalidation_0-auc:0.94249\tvalidation_1-auc:0.95015\n",
      "[27]\tvalidation_0-auc:0.94338\tvalidation_1-auc:0.94970\n",
      "[28]\tvalidation_0-auc:0.94449\tvalidation_1-auc:0.95067\n",
      "[29]\tvalidation_0-auc:0.94402\tvalidation_1-auc:0.95030\n",
      "[30]\tvalidation_0-auc:0.94425\tvalidation_1-auc:0.95025\n",
      "[31]\tvalidation_0-auc:0.94524\tvalidation_1-auc:0.95056\n",
      "[32]\tvalidation_0-auc:0.94667\tvalidation_1-auc:0.95123\n",
      "[33]\tvalidation_0-auc:0.94926\tvalidation_1-auc:0.95253\n",
      "[34]\tvalidation_0-auc:0.95091\tvalidation_1-auc:0.95281\n",
      "[35]\tvalidation_0-auc:0.95112\tvalidation_1-auc:0.95284\n",
      "[36]\tvalidation_0-auc:0.95156\tvalidation_1-auc:0.95286\n",
      "[37]\tvalidation_0-auc:0.95152\tvalidation_1-auc:0.95259\n",
      "[38]\tvalidation_0-auc:0.95201\tvalidation_1-auc:0.95248\n",
      "[39]\tvalidation_0-auc:0.95219\tvalidation_1-auc:0.95326\n",
      "[40]\tvalidation_0-auc:0.95260\tvalidation_1-auc:0.95279\n",
      "[41]\tvalidation_0-auc:0.95292\tvalidation_1-auc:0.95316\n",
      "[42]\tvalidation_0-auc:0.95334\tvalidation_1-auc:0.95297\n",
      "[43]\tvalidation_0-auc:0.95372\tvalidation_1-auc:0.95305\n",
      "[44]\tvalidation_0-auc:0.95445\tvalidation_1-auc:0.95524\n",
      "[45]\tvalidation_0-auc:0.95459\tvalidation_1-auc:0.95525\n",
      "[46]\tvalidation_0-auc:0.95512\tvalidation_1-auc:0.95570\n",
      "[47]\tvalidation_0-auc:0.95559\tvalidation_1-auc:0.95608\n",
      "[48]\tvalidation_0-auc:0.95680\tvalidation_1-auc:0.95634\n",
      "[49]\tvalidation_0-auc:0.95740\tvalidation_1-auc:0.95662\n",
      "[50]\tvalidation_0-auc:0.95805\tvalidation_1-auc:0.95772\n",
      "[51]\tvalidation_0-auc:0.95828\tvalidation_1-auc:0.95777\n",
      "[52]\tvalidation_0-auc:0.95866\tvalidation_1-auc:0.95783\n",
      "[53]\tvalidation_0-auc:0.95903\tvalidation_1-auc:0.95875\n",
      "[54]\tvalidation_0-auc:0.95927\tvalidation_1-auc:0.95893\n",
      "[55]\tvalidation_0-auc:0.95937\tvalidation_1-auc:0.95880\n",
      "[56]\tvalidation_0-auc:0.95945\tvalidation_1-auc:0.95857\n",
      "[57]\tvalidation_0-auc:0.95958\tvalidation_1-auc:0.95884\n",
      "[58]\tvalidation_0-auc:0.95971\tvalidation_1-auc:0.95874\n",
      "[59]\tvalidation_0-auc:0.96032\tvalidation_1-auc:0.95878\n",
      "[60]\tvalidation_0-auc:0.96063\tvalidation_1-auc:0.95881\n",
      "[61]\tvalidation_0-auc:0.96070\tvalidation_1-auc:0.95879\n",
      "[62]\tvalidation_0-auc:0.96109\tvalidation_1-auc:0.95873\n",
      "[63]\tvalidation_0-auc:0.96134\tvalidation_1-auc:0.95872\n",
      "[64]\tvalidation_0-auc:0.96158\tvalidation_1-auc:0.95860\n",
      "[65]\tvalidation_0-auc:0.96174\tvalidation_1-auc:0.95857\n",
      "[66]\tvalidation_0-auc:0.96191\tvalidation_1-auc:0.95827\n",
      "[67]\tvalidation_0-auc:0.96195\tvalidation_1-auc:0.95797\n",
      "[68]\tvalidation_0-auc:0.96196\tvalidation_1-auc:0.95773\n",
      "[69]\tvalidation_0-auc:0.96227\tvalidation_1-auc:0.95782\n",
      "[70]\tvalidation_0-auc:0.96229\tvalidation_1-auc:0.95759\n",
      "[71]\tvalidation_0-auc:0.96290\tvalidation_1-auc:0.95774\n",
      "[72]\tvalidation_0-auc:0.96364\tvalidation_1-auc:0.95848\n",
      "[73]\tvalidation_0-auc:0.96401\tvalidation_1-auc:0.95829\n"
     ]
    },
    {
     "data": {
      "text/plain": [
       "XGBClassifier(base_score=0.5, booster='gbtree', colsample_bylevel=1,\n",
       "              colsample_bynode=1, colsample_bytree=0.8,\n",
       "              enable_categorical=False, eta=0.04, gamma=0, gpu_id=-1,\n",
       "              importance_type=None, interaction_constraints='',\n",
       "              learning_rate=0.0399999991, max_delta_step=0, max_depth=7,\n",
       "              min_child_weight=200, missing=nan, monotone_constraints='()',\n",
       "              n_estimators=100, n_jobs=16, num_parallel_tree=1,\n",
       "              predictor='auto', random_state=0, reg_alpha=0, reg_lambda=1,\n",
       "              scale_pos_weight=1, seed=0, subsample=0.8, tree_method='exact',\n",
       "              use_label_encoder=False, validate_parameters=1, ...)"
      ]
     },
     "execution_count": 9,
     "metadata": {},
     "output_type": "execute_result"
    }
   ],
   "source": [
    "fit_params = {\n",
    "    'eval_metric': 'auc',\n",
    "    'eval_set': [(X_train, y_train), (X_val, y_val)],\n",
    "    'early_stopping_rounds': EARLY_STOP,\n",
    "    'verbose': True\n",
    "}\n",
    "\n",
    "model.fit(X_train, y_train, **fit_params)"
   ]
  },
  {
   "cell_type": "markdown",
   "metadata": {},
   "source": [
    "#### **evaluation**"
   ]
  },
  {
   "cell_type": "code",
   "execution_count": 10,
   "metadata": {},
   "outputs": [],
   "source": [
    "def evaluate(model, X, dataset, threshold, truth_file, result_file, delay):\n",
    "    pred = model.predict_proba(X)[:,1]\n",
    "    pred = np.where(pred > threshold, 1, 0)\n",
    "    prediction = dataset.loc[:, ['timestamp', 'kpi_id']].rename(columns={'kpi_id': 'KPI ID'})\n",
    "    prediction['predict'] = pred\n",
    "    prediction.to_csv(result_file)\n",
    "\n",
    "    ground_truth = dataset.loc[:, ['timestamp', 'kpi_id', 'label']].rename(columns={'kpi_id': 'KPI ID'})\n",
    "    ground_truth.to_hdf(truth_file, key='df')\n",
    "\n",
    "    return label_evaluation(truth_file, result_file, delay)"
   ]
  },
  {
   "cell_type": "markdown",
   "metadata": {},
   "source": [
    "find best threshold"
   ]
  },
  {
   "cell_type": "code",
   "execution_count": 11,
   "metadata": {},
   "outputs": [],
   "source": [
    "best = 0.\n",
    "THRESHOLD = 0.\n",
    "for t in range(0, 100):\n",
    "    eval = json.loads(evaluate(model, X_val, dl.val, t / 100, truth_file, result_file, delay))\n",
    "    if eval['data'] > best:\n",
    "        THRESHOLD = t / 100\n",
    "        best = eval['data']"
   ]
  },
  {
   "cell_type": "code",
   "execution_count": 12,
   "metadata": {},
   "outputs": [
    {
     "name": "stdout",
     "output_type": "stream",
     "text": [
      "THRESHOLD = 0.32\n"
     ]
    }
   ],
   "source": [
    "print(f'{THRESHOLD = }')"
   ]
  },
  {
   "cell_type": "markdown",
   "metadata": {},
   "source": [
    "run evaluation"
   ]
  },
  {
   "cell_type": "code",
   "execution_count": 13,
   "metadata": {
    "pycharm": {
     "name": "#%%\n"
    }
   },
   "outputs": [
    {
     "name": "stdout",
     "output_type": "stream",
     "text": [
      "evaluating: train\n",
      "{\"result\": true, \"data\": 0.7669321362413295, \"message\": \"计算成功\"}\n",
      "evaluating: val\n",
      "{\"result\": true, \"data\": 0.8140171139181559, \"message\": \"计算成功\"}\n"
     ]
    }
   ],
   "source": [
    "for name, X, dataset in (('train', X_train, dl.train), ('val', X_val, dl.val)):\n",
    "    print(f'evaluating: {name}')\n",
    "    print(evaluate(model, X, dataset, THRESHOLD, truth_file, result_file, delay))"
   ]
  },
  {
   "cell_type": "markdown",
   "metadata": {},
   "source": [
    "#### **submission**"
   ]
  },
  {
   "cell_type": "code",
   "execution_count": 14,
   "metadata": {
    "pycharm": {
     "name": "#%%\n"
    }
   },
   "outputs": [],
   "source": [
    "pred = model.predict_proba(X_test)[:,1]\n",
    "pred = np.where(pred > THRESHOLD, 1, 0)\n",
    "prediction = dl.test.loc[:, ['timestamp', 'kpi_id']].rename(columns={'kpi_id': 'KPI ID'})\n",
    "prediction['predict'] = pred\n",
    "prediction.to_csv(result_file)"
   ]
  },
  {
   "cell_type": "code",
   "execution_count": null,
   "metadata": {},
   "outputs": [],
   "source": []
  }
 ],
 "metadata": {
  "interpreter": {
   "hash": "a3f17c236de22f239375743162bff747011b70af04d9864d7ee0f940144027e4"
  },
  "kernelspec": {
   "display_name": "Python 3.9.7 ('gresearch')",
   "language": "python",
   "name": "python3"
  },
  "language_info": {
   "codemirror_mode": {
    "name": "ipython",
    "version": 3
   },
   "file_extension": ".py",
   "mimetype": "text/x-python",
   "name": "python",
   "nbconvert_exporter": "python",
   "pygments_lexer": "ipython3",
   "version": "3.9.7"
  },
  "orig_nbformat": 4
 },
 "nbformat": 4,
 "nbformat_minor": 2
}
