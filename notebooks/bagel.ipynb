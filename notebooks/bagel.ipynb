{
 "cells": [
  {
   "cell_type": "markdown",
   "metadata": {},
   "source": [
    "Imports"
   ]
  },
  {
   "cell_type": "code",
   "execution_count": null,
   "metadata": {},
   "outputs": [],
   "source": [
    "from evaluation_metric import range_lift_with_delay\n",
    "from sklearn.metrics import precision_recall_curve\n",
    "from preprocessing import complete_timestamp\n",
    "from evaluation import label_evaluation\n",
    "from kpi_series import KPISeries\n",
    "from model import DonutX\n",
    "import pandas as pd\n",
    "import numpy as np\n",
    "import json"
   ]
  },
  {
   "cell_type": "markdown",
   "metadata": {},
   "source": [
    "Performance Metric function"
   ]
  },
  {
   "cell_type": "code",
   "execution_count": null,
   "metadata": {},
   "outputs": [],
   "source": [
    "def evaluate(preds, labels, kpi_id, missing, timestamp):\n",
    "    truth = pd.DataFrame({'missing': missing, 'label': labels, 'KPI ID': kpi_id, 'timestamp': timestamp})\n",
    "    truth[truth['missing'] == 0].to_hdf(truth_file, key='df')\n",
    "\n",
    "    prediction = pd.DataFrame({'missing': missing, 'predict': preds, 'KPI ID': kpi_id, 'timestamp': timestamp})\n",
    "    prediction[prediction['missing'] == 0].to_csv(result_file)\n",
    "\n",
    "    return json.loads(label_evaluation(truth_file, result_file, delay))['data']"
   ]
  },
  {
   "cell_type": "code",
   "execution_count": null,
   "metadata": {},
   "outputs": [],
   "source": [
    "train_file = '../train.csv'\n",
    "test_file = '../test.csv'\n",
    "\n",
    "result_file = 'predict.csv'\n",
    "truth_file = 'ground_truth.hdf'\n",
    "delay = 7\n",
    "THRESHOLD = 1.1\n",
    "\n",
    "train_df = pd.read_csv(train_file).rename(columns={'KPI ID': 'kpi_id'})\n",
    "test_df = pd.read_csv(test_file).rename(columns={'KPI ID': 'kpi_id'})"
   ]
  },
  {
   "cell_type": "markdown",
   "metadata": {},
   "source": [
    "Bagel inference"
   ]
  },
  {
   "cell_type": "code",
   "execution_count": null,
   "metadata": {},
   "outputs": [],
   "source": [
    "predictions = pd.DataFrame()\n",
    "for kpi_id in train_df.kpi_id.unique():\n",
    "    kpi = train_df[train_df['kpi_id'] == kpi_id]\n",
    "    t_kpi = test_df[test_df['kpi_id'] == kpi_id]\n",
    "    t_kpi['label'] = 0\n",
    "\n",
    "    train_timestamp, train_missing, (train_values, train_labels) = complete_timestamp(kpi['timestamp'], (kpi['value'], kpi['label']))\n",
    "    test_timestamp, test_missing, (test_values, test_labels) = complete_timestamp(t_kpi['timestamp'], (t_kpi['value'], t_kpi['label']))\n",
    "\n",
    "    train_kpi = KPISeries(\n",
    "        value = train_values,\n",
    "        timestamp = train_timestamp,\n",
    "        label = train_labels,\n",
    "        name = 'train_data',\n",
    "    )\n",
    "\n",
    "    test_kpi = KPISeries(\n",
    "        value = test_values,\n",
    "        timestamp = test_timestamp,\n",
    "        label = test_labels,\n",
    "        name = 'test_data',\n",
    "    )\n",
    "\n",
    "    train_kpi, train_kpi_mean, train_kpi_std = train_kpi.normalize(return_statistic=True)\n",
    "    test_kpi = test_kpi.normalize(mean=train_kpi_mean, std=train_kpi_std)\n",
    "\n",
    "    model = DonutX(cuda=False, max_epoch=50, latent_dims=8, network_size=[100, 100])\n",
    "    model.fit(train_kpi.label_sampling(0.))\n",
    "\n",
    "    y_prob = model.predict(test_kpi.label_sampling(0.))\n",
    "    n_elems = int(train_kpi.anormaly_rate * test_kpi.length)\n",
    "    test_pred = np.where(y_prob > np.sort(y_prob)[::-1][n_elems], 1, 0)\n",
    "\n",
    "    kpi_pred = pd.DataFrame({'missing': test_missing, 'predict': test_pred, 'KPI ID': kpi_id, 'timestamp': test_timestamp})\n",
    "    predictions = predictions.append(kpi_pred[kpi_pred['missing'] == 0].drop(['missing'], axis=1)).reset_index(drop=True)\n",
    "    kpi_pred[kpi_pred['missing'] == 0].drop(['missing'], axis=1).to_csv(f'inference/{kpi_id}.csv')"
   ]
  }
 ],
 "metadata": {
  "interpreter": {
   "hash": "d81eb34a9e842293aa58a6d0a18317c8e908f91cbdb01ee943989426ec520f90"
  },
  "kernelspec": {
   "display_name": "Python 3.7.10 ('bagel')",
   "language": "python",
   "name": "python3"
  },
  "language_info": {
   "codemirror_mode": {
    "name": "ipython",
    "version": 3
   },
   "file_extension": ".py",
   "mimetype": "text/x-python",
   "name": "python",
   "nbconvert_exporter": "python",
   "pygments_lexer": "ipython3",
   "version": "3.7.10"
  },
  "orig_nbformat": 4
 },
 "nbformat": 4,
 "nbformat_minor": 2
}
