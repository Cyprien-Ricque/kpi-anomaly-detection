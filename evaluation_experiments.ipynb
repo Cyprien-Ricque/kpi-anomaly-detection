{
 "cells": [
  {
   "cell_type": "code",
   "execution_count": 1,
   "metadata": {
    "pycharm": {
     "name": "#%%\n"
    }
   },
   "outputs": [],
   "source": [
    "import pandas as pd\n",
    "import numpy as np\n",
    "import matplotlib.pyplot as plt\n",
    "import seaborn as sns\n",
    "\n",
    "from utils.evaluation import label_evaluation\n",
    "\n",
    "sns.set_style(\"whitegrid\")"
   ]
  },
  {
   "cell_type": "markdown",
   "metadata": {
    "pycharm": {
     "name": "#%% md\n"
    }
   },
   "source": [
    "## Load Data"
   ]
  },
  {
   "cell_type": "code",
   "execution_count": 2,
   "metadata": {
    "pycharm": {
     "name": "#%%\n"
    }
   },
   "outputs": [],
   "source": [
    "data_folder = '../'\n",
    "\n",
    "train_file = 'train.csv'\n",
    "test_file = 'test.csv'\n",
    "\n",
    "train_path = data_folder + train_file\n",
    "test_path = data_folder + test_file"
   ]
  },
  {
   "cell_type": "code",
   "execution_count": 3,
   "metadata": {
    "pycharm": {
     "name": "#%%\n"
    }
   },
   "outputs": [
    {
     "name": "stdout",
     "output_type": "stream",
     "text": [
      "(2476315, 4)\n"
     ]
    },
    {
     "data": {
      "text/plain": "    timestamp     value  label            kpi_id\n0  1493568000  1.901639      0  02e99bd4f6cfb33f\n1  1493568060  1.786885      0  02e99bd4f6cfb33f",
      "text/html": "<div>\n<style scoped>\n    .dataframe tbody tr th:only-of-type {\n        vertical-align: middle;\n    }\n\n    .dataframe tbody tr th {\n        vertical-align: top;\n    }\n\n    .dataframe thead th {\n        text-align: right;\n    }\n</style>\n<table border=\"1\" class=\"dataframe\">\n  <thead>\n    <tr style=\"text-align: right;\">\n      <th></th>\n      <th>timestamp</th>\n      <th>value</th>\n      <th>label</th>\n      <th>kpi_id</th>\n    </tr>\n  </thead>\n  <tbody>\n    <tr>\n      <th>0</th>\n      <td>1493568000</td>\n      <td>1.901639</td>\n      <td>0</td>\n      <td>02e99bd4f6cfb33f</td>\n    </tr>\n    <tr>\n      <th>1</th>\n      <td>1493568060</td>\n      <td>1.786885</td>\n      <td>0</td>\n      <td>02e99bd4f6cfb33f</td>\n    </tr>\n  </tbody>\n</table>\n</div>"
     },
     "execution_count": 3,
     "metadata": {},
     "output_type": "execute_result"
    }
   ],
   "source": [
    "df_train = pd.read_csv(train_path).rename(columns={'KPI ID': 'kpi_id'})\n",
    "print(df_train.shape)\n",
    "df_train.head(2)"
   ]
  },
  {
   "cell_type": "code",
   "execution_count": 4,
   "outputs": [],
   "source": [
    "df_train['datetime'] = pd.to_datetime(df_train.timestamp, unit='s')"
   ],
   "metadata": {
    "collapsed": false,
    "pycharm": {
     "name": "#%%\n"
    }
   }
  },
  {
   "cell_type": "markdown",
   "source": [
    "### Generate test evaluation files\n",
    "\n",
    "to run : ```python evaluation.py 'ground_truth.hdf' 'predict.csv' 7```"
   ],
   "metadata": {
    "collapsed": false,
    "pycharm": {
     "name": "#%% md\n"
    }
   }
  },
  {
   "cell_type": "markdown",
   "source": [
    "#### Performance Metric\n",
    "\n",
    "The anomaly detection algorithm need to give a predicted label (0 or 1) for every observation in testing set. We use F-score on test set as the final performance metric in the ranking.\n",
    "In real applications, the human operators generally do not care about the point-wise metrics. It is acceptable for an algorithm to trigger an alert for any point in a contiguous anomaly segment if the delay is not too long.\n",
    "**For an anomaly segment with start point i, if any points between *i* to *T+i* in the ground truth were detected, we say this segment is detected correctly, and all points in this segment are treated as true positives. Otherwise, all points in this segment are regarded as false negatives**. Meanwhile, the points outside the anomaly segments are treated as usual. For example (see the figure below), when *T=1*, the first anomaly segment was detected and the second segment\n",
    "was not, so the precision=0.75, recall=0.5. Based on the above strategy, we calculate F-score.\n",
    "\n",
    "<img src=\"./assets/evaluation.png\">"
   ],
   "metadata": {
    "collapsed": false,
    "pycharm": {
     "name": "#%% md\n"
    }
   }
  },
  {
   "cell_type": "code",
   "execution_count": 5,
   "outputs": [],
   "source": [
    "result_file = 'predict.csv'\n",
    "truth_file = 'ground_truth.hdf'\n",
    "delay = 7"
   ],
   "metadata": {
    "collapsed": false,
    "pycharm": {
     "name": "#%%\n"
    }
   }
  },
  {
   "cell_type": "markdown",
   "source": [
    "#### Prefect Prediction"
   ],
   "metadata": {
    "collapsed": false,
    "pycharm": {
     "name": "#%% md\n"
    }
   }
  },
  {
   "cell_type": "code",
   "execution_count": 6,
   "outputs": [],
   "source": [
    "predict = df_train.loc[:, ['timestamp', 'value', 'kpi_id', 'label']].rename(columns={'kpi_id': 'KPI ID', 'label': 'predict'})\n",
    "predict.to_csv(result_file)"
   ],
   "metadata": {
    "collapsed": false,
    "pycharm": {
     "name": "#%%\n"
    }
   }
  },
  {
   "cell_type": "code",
   "execution_count": 7,
   "outputs": [
    {
     "ename": "ImportError",
     "evalue": "Missing optional dependency 'pytables'.  Use pip or conda to install pytables.",
     "output_type": "error",
     "traceback": [
      "\u001B[1;31m---------------------------------------------------------------------------\u001B[0m",
      "\u001B[1;31mModuleNotFoundError\u001B[0m                       Traceback (most recent call last)",
      "File \u001B[1;32m~\\anaconda3\\envs\\pytorch-gpu\\lib\\site-packages\\pandas\\compat\\_optional.py:126\u001B[0m, in \u001B[0;36mimport_optional_dependency\u001B[1;34m(name, extra, errors, min_version)\u001B[0m\n\u001B[0;32m    125\u001B[0m \u001B[38;5;28;01mtry\u001B[39;00m:\n\u001B[1;32m--> 126\u001B[0m     module \u001B[38;5;241m=\u001B[39m \u001B[43mimportlib\u001B[49m\u001B[38;5;241;43m.\u001B[39;49m\u001B[43mimport_module\u001B[49m\u001B[43m(\u001B[49m\u001B[43mname\u001B[49m\u001B[43m)\u001B[49m\n\u001B[0;32m    127\u001B[0m \u001B[38;5;28;01mexcept\u001B[39;00m \u001B[38;5;167;01mImportError\u001B[39;00m:\n",
      "File \u001B[1;32m~\\anaconda3\\envs\\pytorch-gpu\\lib\\importlib\\__init__.py:127\u001B[0m, in \u001B[0;36mimport_module\u001B[1;34m(name, package)\u001B[0m\n\u001B[0;32m    126\u001B[0m         level \u001B[38;5;241m+\u001B[39m\u001B[38;5;241m=\u001B[39m \u001B[38;5;241m1\u001B[39m\n\u001B[1;32m--> 127\u001B[0m \u001B[38;5;28;01mreturn\u001B[39;00m \u001B[43m_bootstrap\u001B[49m\u001B[38;5;241;43m.\u001B[39;49m\u001B[43m_gcd_import\u001B[49m\u001B[43m(\u001B[49m\u001B[43mname\u001B[49m\u001B[43m[\u001B[49m\u001B[43mlevel\u001B[49m\u001B[43m:\u001B[49m\u001B[43m]\u001B[49m\u001B[43m,\u001B[49m\u001B[43m \u001B[49m\u001B[43mpackage\u001B[49m\u001B[43m,\u001B[49m\u001B[43m \u001B[49m\u001B[43mlevel\u001B[49m\u001B[43m)\u001B[49m\n",
      "File \u001B[1;32m<frozen importlib._bootstrap>:1014\u001B[0m, in \u001B[0;36m_gcd_import\u001B[1;34m(name, package, level)\u001B[0m\n",
      "File \u001B[1;32m<frozen importlib._bootstrap>:991\u001B[0m, in \u001B[0;36m_find_and_load\u001B[1;34m(name, import_)\u001B[0m\n",
      "File \u001B[1;32m<frozen importlib._bootstrap>:973\u001B[0m, in \u001B[0;36m_find_and_load_unlocked\u001B[1;34m(name, import_)\u001B[0m\n",
      "\u001B[1;31mModuleNotFoundError\u001B[0m: No module named 'tables'",
      "\nDuring handling of the above exception, another exception occurred:\n",
      "\u001B[1;31mImportError\u001B[0m                               Traceback (most recent call last)",
      "Input \u001B[1;32mIn [7]\u001B[0m, in \u001B[0;36m<cell line: 2>\u001B[1;34m()\u001B[0m\n\u001B[0;32m      1\u001B[0m ground_truth \u001B[38;5;241m=\u001B[39m df_train\u001B[38;5;241m.\u001B[39mloc[:, [\u001B[38;5;124m'\u001B[39m\u001B[38;5;124mtimestamp\u001B[39m\u001B[38;5;124m'\u001B[39m, \u001B[38;5;124m'\u001B[39m\u001B[38;5;124mvalue\u001B[39m\u001B[38;5;124m'\u001B[39m, \u001B[38;5;124m'\u001B[39m\u001B[38;5;124mkpi_id\u001B[39m\u001B[38;5;124m'\u001B[39m, \u001B[38;5;124m'\u001B[39m\u001B[38;5;124mlabel\u001B[39m\u001B[38;5;124m'\u001B[39m]]\u001B[38;5;241m.\u001B[39mrename(columns\u001B[38;5;241m=\u001B[39m{\u001B[38;5;124m'\u001B[39m\u001B[38;5;124mkpi_id\u001B[39m\u001B[38;5;124m'\u001B[39m: \u001B[38;5;124m'\u001B[39m\u001B[38;5;124mKPI ID\u001B[39m\u001B[38;5;124m'\u001B[39m})\n\u001B[1;32m----> 2\u001B[0m \u001B[43mground_truth\u001B[49m\u001B[38;5;241;43m.\u001B[39;49m\u001B[43mto_hdf\u001B[49m\u001B[43m(\u001B[49m\u001B[43mtruth_file\u001B[49m\u001B[43m,\u001B[49m\u001B[43m \u001B[49m\u001B[43mkey\u001B[49m\u001B[38;5;241;43m=\u001B[39;49m\u001B[38;5;124;43m'\u001B[39;49m\u001B[38;5;124;43mdf\u001B[39;49m\u001B[38;5;124;43m'\u001B[39;49m\u001B[43m)\u001B[49m\n",
      "File \u001B[1;32m~\\anaconda3\\envs\\pytorch-gpu\\lib\\site-packages\\pandas\\core\\generic.py:2775\u001B[0m, in \u001B[0;36mNDFrame.to_hdf\u001B[1;34m(self, path_or_buf, key, mode, complevel, complib, append, format, index, min_itemsize, nan_rep, dropna, data_columns, errors, encoding)\u001B[0m\n\u001B[0;32m   2771\u001B[0m \u001B[38;5;28;01mfrom\u001B[39;00m \u001B[38;5;21;01mpandas\u001B[39;00m\u001B[38;5;21;01m.\u001B[39;00m\u001B[38;5;21;01mio\u001B[39;00m \u001B[38;5;28;01mimport\u001B[39;00m pytables\n\u001B[0;32m   2773\u001B[0m \u001B[38;5;66;03m# Argument 3 to \"to_hdf\" has incompatible type \"NDFrame\"; expected\u001B[39;00m\n\u001B[0;32m   2774\u001B[0m \u001B[38;5;66;03m# \"Union[DataFrame, Series]\" [arg-type]\u001B[39;00m\n\u001B[1;32m-> 2775\u001B[0m \u001B[43mpytables\u001B[49m\u001B[38;5;241;43m.\u001B[39;49m\u001B[43mto_hdf\u001B[49m\u001B[43m(\u001B[49m\n\u001B[0;32m   2776\u001B[0m \u001B[43m    \u001B[49m\u001B[43mpath_or_buf\u001B[49m\u001B[43m,\u001B[49m\n\u001B[0;32m   2777\u001B[0m \u001B[43m    \u001B[49m\u001B[43mkey\u001B[49m\u001B[43m,\u001B[49m\n\u001B[0;32m   2778\u001B[0m \u001B[43m    \u001B[49m\u001B[38;5;28;43mself\u001B[39;49m\u001B[43m,\u001B[49m\u001B[43m  \u001B[49m\u001B[38;5;66;43;03m# type: ignore[arg-type]\u001B[39;49;00m\n\u001B[0;32m   2779\u001B[0m \u001B[43m    \u001B[49m\u001B[43mmode\u001B[49m\u001B[38;5;241;43m=\u001B[39;49m\u001B[43mmode\u001B[49m\u001B[43m,\u001B[49m\n\u001B[0;32m   2780\u001B[0m \u001B[43m    \u001B[49m\u001B[43mcomplevel\u001B[49m\u001B[38;5;241;43m=\u001B[39;49m\u001B[43mcomplevel\u001B[49m\u001B[43m,\u001B[49m\n\u001B[0;32m   2781\u001B[0m \u001B[43m    \u001B[49m\u001B[43mcomplib\u001B[49m\u001B[38;5;241;43m=\u001B[39;49m\u001B[43mcomplib\u001B[49m\u001B[43m,\u001B[49m\n\u001B[0;32m   2782\u001B[0m \u001B[43m    \u001B[49m\u001B[43mappend\u001B[49m\u001B[38;5;241;43m=\u001B[39;49m\u001B[43mappend\u001B[49m\u001B[43m,\u001B[49m\n\u001B[0;32m   2783\u001B[0m \u001B[43m    \u001B[49m\u001B[38;5;28;43mformat\u001B[39;49m\u001B[38;5;241;43m=\u001B[39;49m\u001B[38;5;28;43mformat\u001B[39;49m\u001B[43m,\u001B[49m\n\u001B[0;32m   2784\u001B[0m \u001B[43m    \u001B[49m\u001B[43mindex\u001B[49m\u001B[38;5;241;43m=\u001B[39;49m\u001B[43mindex\u001B[49m\u001B[43m,\u001B[49m\n\u001B[0;32m   2785\u001B[0m \u001B[43m    \u001B[49m\u001B[43mmin_itemsize\u001B[49m\u001B[38;5;241;43m=\u001B[39;49m\u001B[43mmin_itemsize\u001B[49m\u001B[43m,\u001B[49m\n\u001B[0;32m   2786\u001B[0m \u001B[43m    \u001B[49m\u001B[43mnan_rep\u001B[49m\u001B[38;5;241;43m=\u001B[39;49m\u001B[43mnan_rep\u001B[49m\u001B[43m,\u001B[49m\n\u001B[0;32m   2787\u001B[0m \u001B[43m    \u001B[49m\u001B[43mdropna\u001B[49m\u001B[38;5;241;43m=\u001B[39;49m\u001B[43mdropna\u001B[49m\u001B[43m,\u001B[49m\n\u001B[0;32m   2788\u001B[0m \u001B[43m    \u001B[49m\u001B[43mdata_columns\u001B[49m\u001B[38;5;241;43m=\u001B[39;49m\u001B[43mdata_columns\u001B[49m\u001B[43m,\u001B[49m\n\u001B[0;32m   2789\u001B[0m \u001B[43m    \u001B[49m\u001B[43merrors\u001B[49m\u001B[38;5;241;43m=\u001B[39;49m\u001B[43merrors\u001B[49m\u001B[43m,\u001B[49m\n\u001B[0;32m   2790\u001B[0m \u001B[43m    \u001B[49m\u001B[43mencoding\u001B[49m\u001B[38;5;241;43m=\u001B[39;49m\u001B[43mencoding\u001B[49m\u001B[43m,\u001B[49m\n\u001B[0;32m   2791\u001B[0m \u001B[43m\u001B[49m\u001B[43m)\u001B[49m\n",
      "File \u001B[1;32m~\\anaconda3\\envs\\pytorch-gpu\\lib\\site-packages\\pandas\\io\\pytables.py:311\u001B[0m, in \u001B[0;36mto_hdf\u001B[1;34m(path_or_buf, key, value, mode, complevel, complib, append, format, index, min_itemsize, nan_rep, dropna, data_columns, errors, encoding)\u001B[0m\n\u001B[0;32m    309\u001B[0m path_or_buf \u001B[38;5;241m=\u001B[39m stringify_path(path_or_buf)\n\u001B[0;32m    310\u001B[0m \u001B[38;5;28;01mif\u001B[39;00m \u001B[38;5;28misinstance\u001B[39m(path_or_buf, \u001B[38;5;28mstr\u001B[39m):\n\u001B[1;32m--> 311\u001B[0m     \u001B[38;5;28;01mwith\u001B[39;00m \u001B[43mHDFStore\u001B[49m\u001B[43m(\u001B[49m\n\u001B[0;32m    312\u001B[0m \u001B[43m        \u001B[49m\u001B[43mpath_or_buf\u001B[49m\u001B[43m,\u001B[49m\u001B[43m \u001B[49m\u001B[43mmode\u001B[49m\u001B[38;5;241;43m=\u001B[39;49m\u001B[43mmode\u001B[49m\u001B[43m,\u001B[49m\u001B[43m \u001B[49m\u001B[43mcomplevel\u001B[49m\u001B[38;5;241;43m=\u001B[39;49m\u001B[43mcomplevel\u001B[49m\u001B[43m,\u001B[49m\u001B[43m \u001B[49m\u001B[43mcomplib\u001B[49m\u001B[38;5;241;43m=\u001B[39;49m\u001B[43mcomplib\u001B[49m\n\u001B[0;32m    313\u001B[0m \u001B[43m    \u001B[49m\u001B[43m)\u001B[49m \u001B[38;5;28;01mas\u001B[39;00m store:\n\u001B[0;32m    314\u001B[0m         f(store)\n\u001B[0;32m    315\u001B[0m \u001B[38;5;28;01melse\u001B[39;00m:\n",
      "File \u001B[1;32m~\\anaconda3\\envs\\pytorch-gpu\\lib\\site-packages\\pandas\\io\\pytables.py:572\u001B[0m, in \u001B[0;36mHDFStore.__init__\u001B[1;34m(self, path, mode, complevel, complib, fletcher32, **kwargs)\u001B[0m\n\u001B[0;32m    569\u001B[0m \u001B[38;5;28;01mif\u001B[39;00m \u001B[38;5;124m\"\u001B[39m\u001B[38;5;124mformat\u001B[39m\u001B[38;5;124m\"\u001B[39m \u001B[38;5;129;01min\u001B[39;00m kwargs:\n\u001B[0;32m    570\u001B[0m     \u001B[38;5;28;01mraise\u001B[39;00m \u001B[38;5;167;01mValueError\u001B[39;00m(\u001B[38;5;124m\"\u001B[39m\u001B[38;5;124mformat is not a defined argument for HDFStore\u001B[39m\u001B[38;5;124m\"\u001B[39m)\n\u001B[1;32m--> 572\u001B[0m tables \u001B[38;5;241m=\u001B[39m \u001B[43mimport_optional_dependency\u001B[49m\u001B[43m(\u001B[49m\u001B[38;5;124;43m\"\u001B[39;49m\u001B[38;5;124;43mtables\u001B[39;49m\u001B[38;5;124;43m\"\u001B[39;49m\u001B[43m)\u001B[49m\n\u001B[0;32m    574\u001B[0m \u001B[38;5;28;01mif\u001B[39;00m complib \u001B[38;5;129;01mis\u001B[39;00m \u001B[38;5;129;01mnot\u001B[39;00m \u001B[38;5;28;01mNone\u001B[39;00m \u001B[38;5;129;01mand\u001B[39;00m complib \u001B[38;5;129;01mnot\u001B[39;00m \u001B[38;5;129;01min\u001B[39;00m tables\u001B[38;5;241m.\u001B[39mfilters\u001B[38;5;241m.\u001B[39mall_complibs:\n\u001B[0;32m    575\u001B[0m     \u001B[38;5;28;01mraise\u001B[39;00m \u001B[38;5;167;01mValueError\u001B[39;00m(\n\u001B[0;32m    576\u001B[0m         \u001B[38;5;124mf\u001B[39m\u001B[38;5;124m\"\u001B[39m\u001B[38;5;124mcomplib only supports \u001B[39m\u001B[38;5;132;01m{\u001B[39;00mtables\u001B[38;5;241m.\u001B[39mfilters\u001B[38;5;241m.\u001B[39mall_complibs\u001B[38;5;132;01m}\u001B[39;00m\u001B[38;5;124m compression.\u001B[39m\u001B[38;5;124m\"\u001B[39m\n\u001B[0;32m    577\u001B[0m     )\n",
      "File \u001B[1;32m~\\anaconda3\\envs\\pytorch-gpu\\lib\\site-packages\\pandas\\compat\\_optional.py:129\u001B[0m, in \u001B[0;36mimport_optional_dependency\u001B[1;34m(name, extra, errors, min_version)\u001B[0m\n\u001B[0;32m    127\u001B[0m \u001B[38;5;28;01mexcept\u001B[39;00m \u001B[38;5;167;01mImportError\u001B[39;00m:\n\u001B[0;32m    128\u001B[0m     \u001B[38;5;28;01mif\u001B[39;00m errors \u001B[38;5;241m==\u001B[39m \u001B[38;5;124m\"\u001B[39m\u001B[38;5;124mraise\u001B[39m\u001B[38;5;124m\"\u001B[39m:\n\u001B[1;32m--> 129\u001B[0m         \u001B[38;5;28;01mraise\u001B[39;00m \u001B[38;5;167;01mImportError\u001B[39;00m(msg)\n\u001B[0;32m    130\u001B[0m     \u001B[38;5;28;01melse\u001B[39;00m:\n\u001B[0;32m    131\u001B[0m         \u001B[38;5;28;01mreturn\u001B[39;00m \u001B[38;5;28;01mNone\u001B[39;00m\n",
      "\u001B[1;31mImportError\u001B[0m: Missing optional dependency 'pytables'.  Use pip or conda to install pytables."
     ]
    }
   ],
   "source": [
    "ground_truth = df_train.loc[:, ['timestamp', 'value', 'kpi_id', 'label']].rename(columns={'kpi_id': 'KPI ID'})\n",
    "ground_truth.to_hdf(truth_file, key='df')"
   ],
   "metadata": {
    "collapsed": false,
    "pycharm": {
     "name": "#%%\n"
    }
   }
  },
  {
   "cell_type": "code",
   "execution_count": null,
   "outputs": [],
   "source": [
    "print(label_evaluation(truth_file, result_file, delay))"
   ],
   "metadata": {
    "collapsed": false,
    "pycharm": {
     "name": "#%%\n"
    }
   }
  },
  {
   "cell_type": "markdown",
   "source": [
    "#### Random Prediction"
   ],
   "metadata": {
    "collapsed": false,
    "pycharm": {
     "name": "#%% md\n"
    }
   }
  },
  {
   "cell_type": "code",
   "execution_count": null,
   "outputs": [],
   "source": [
    "predict = df_train.loc[:, ['timestamp', 'value', 'kpi_id', 'label']].rename(columns={'kpi_id': 'KPI ID', 'label': 'predict'})\n",
    "predict.predict = np.random.choice([0, 1], predict.predict.shape)\n",
    "predict.to_csv(result_file)"
   ],
   "metadata": {
    "collapsed": false,
    "pycharm": {
     "name": "#%%\n"
    }
   }
  },
  {
   "cell_type": "code",
   "execution_count": null,
   "outputs": [],
   "source": [
    "ground_truth = df_train.loc[:, ['timestamp', 'value', 'kpi_id', 'label']].rename(columns={'kpi_id': 'KPI ID'})\n",
    "ground_truth.to_hdf(truth_file, key='df')"
   ],
   "metadata": {
    "collapsed": false,
    "pycharm": {
     "name": "#%%\n"
    }
   }
  },
  {
   "cell_type": "code",
   "execution_count": null,
   "outputs": [],
   "source": [
    "print(label_evaluation(truth_file, result_file, delay))"
   ],
   "metadata": {
    "collapsed": false,
    "pycharm": {
     "name": "#%%\n"
    }
   }
  },
  {
   "cell_type": "code",
   "execution_count": null,
   "outputs": [],
   "source": [],
   "metadata": {
    "collapsed": false,
    "pycharm": {
     "name": "#%%\n"
    }
   }
  }
 ],
 "metadata": {
  "kernelspec": {
   "display_name": "Python 3 (ipykernel)",
   "language": "python",
   "name": "python3"
  },
  "language_info": {
   "codemirror_mode": {
    "name": "ipython",
    "version": 2
   },
   "file_extension": ".py",
   "mimetype": "text/x-python",
   "name": "python",
   "nbconvert_exporter": "python",
   "pygments_lexer": "ipython2",
   "version": "2.7.6"
  }
 },
 "nbformat": 4,
 "nbformat_minor": 1
}